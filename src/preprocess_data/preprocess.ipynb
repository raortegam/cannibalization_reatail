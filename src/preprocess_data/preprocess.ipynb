{
 "cells": [
  {
   "cell_type": "code",
   "execution_count": 1,
   "id": "62a7852c",
   "metadata": {},
   "outputs": [],
   "source": [
    "\n",
    "import sys\n",
    "from pathlib import Path\n",
    "notebook_path = Path().resolve()\n",
    "sys.path.append(str(notebook_path.parent.parent))"
   ]
  },
  {
   "cell_type": "code",
   "execution_count": 2,
   "id": "5ce172dd",
   "metadata": {},
   "outputs": [
    {
     "data": {
      "text/plain": [
       "['c:\\\\Users\\\\PC\\\\Miniconda3\\\\envs\\\\causal_ml\\\\python311.zip',\n",
       " 'c:\\\\Users\\\\PC\\\\Miniconda3\\\\envs\\\\causal_ml\\\\DLLs',\n",
       " 'c:\\\\Users\\\\PC\\\\Miniconda3\\\\envs\\\\causal_ml\\\\Lib',\n",
       " 'c:\\\\Users\\\\PC\\\\Miniconda3\\\\envs\\\\causal_ml',\n",
       " '',\n",
       " 'c:\\\\Users\\\\PC\\\\Miniconda3\\\\envs\\\\causal_ml\\\\Lib\\\\site-packages',\n",
       " 'c:\\\\Users\\\\PC\\\\Miniconda3\\\\envs\\\\causal_ml\\\\Lib\\\\site-packages\\\\win32',\n",
       " 'c:\\\\Users\\\\PC\\\\Miniconda3\\\\envs\\\\causal_ml\\\\Lib\\\\site-packages\\\\win32\\\\lib',\n",
       " 'c:\\\\Users\\\\PC\\\\Miniconda3\\\\envs\\\\causal_ml\\\\Lib\\\\site-packages\\\\Pythonwin',\n",
       " 'D:\\\\repos\\\\cannibalization_reatail']"
      ]
     },
     "execution_count": 2,
     "metadata": {},
     "output_type": "execute_result"
    }
   ],
   "source": [
    "sys.path\n"
   ]
  },
  {
   "cell_type": "code",
   "execution_count": null,
   "id": "bfec75c7",
   "metadata": {},
   "outputs": [
    {
     "name": "stderr",
     "output_type": "stream",
     "text": [
      "D:\\repos\\cannibalization_reatail\\src\\utils\\utils.py:13: DtypeWarning: Columns (5) have mixed types. Specify dtype option on import or set low_memory=False.\n",
      "  return pd.read_csv(full_path, **kwargs)\n",
      "D:\\repos\\cannibalization_reatail\\src\\utils\\utils.py:31: FutureWarning: Downcasting object dtype arrays on .fillna, .ffill, .bfill is deprecated and will change in a future version. Call result.infer_objects(copy=False) instead. To opt-in to the future behavior, set `pd.set_option('future.no_silent_downcasting', True)`\n",
      "  return s.fillna(False).astype(str).str.lower().isin([\"true\", \"1\", \"t\", \"yes\"]).astype(\"int8\")\n",
      "c:\\Users\\PC\\Miniconda3\\envs\\causal_ml\\Lib\\site-packages\\pandas\\core\\arraylike.py:399: RuntimeWarning: divide by zero encountered in log1p\n",
      "  result = getattr(ufunc, method)(*inputs, **kwargs)\n",
      "c:\\Users\\PC\\Miniconda3\\envs\\causal_ml\\Lib\\site-packages\\pandas\\core\\arraylike.py:399: RuntimeWarning: invalid value encountered in log1p\n",
      "  result = getattr(ufunc, method)(*inputs, **kwargs)\n"
     ]
    }
   ],
   "source": [
    "# main.py\n",
    "\n",
    "import sys\n",
    "from pathlib import Path\n",
    "\n",
    "notebook_path = Path().resolve()\n",
    "sys.path.append(str(notebook_path.parent.parent))\n",
    "import os\n",
    "import pandas as pd\n",
    "from typing import Optional\n",
    "from src.conf import config\n",
    "import src.preprocess_data.data_loader as dl\n",
    "from src.preprocess_data.feature_engineering import build_full_panel\n",
    "\n",
    "def save_panel(panel: pd.DataFrame, out_path: Optional[str] = None) -> str:\n",
    "    \"\"\"\n",
    "    Guarda el panel en parquet (si pyarrow disponible) o CSV. Devuelve la ruta escrita.\n",
    "    \"\"\"\n",
    "    if out_path is None:\n",
    "        out_path = os.path.join(config.OUTPUT_DIR, \"/panel_semanal.csv\")\n",
    "\n",
    "    try:\n",
    "        # Preferimos parquet por tamaño/velocidad\n",
    "        panel.to_parquet(out_path, index=False)\n",
    "    except Exception:\n",
    "        # Fallback a CSV si no hay pyarrow/fastparquet\n",
    "        out_path = out_path.rsplit(\".\", 1)[0] + \".csv\"\n",
    "        panel.to_csv(out_path, index=False)\n",
    "    return out_path\n",
    "\n",
    "def main():\n",
    "    # 1) Cargar datos crudos\n",
    "    raw = dl.load_all_raw()\n",
    "\n",
    "    # 2) Construir panel completo\n",
    "    panel = build_full_panel(raw)\n",
    "\n",
    "    # 3) Guardar y reportar\n",
    "    out_file = save_panel(panel)\n",
    "    print(f\"Panel semanal listo → {out_file}\")\n",
    "    print(panel.info(memory_usage=\"deep\"))\n",
    "    print(panel.head(5))\n",
    "\n",
    "if __name__ == \"__main__\":\n",
    "    main()"
   ]
  }
 ],
 "metadata": {
  "kernelspec": {
   "display_name": "causal_ml",
   "language": "python",
   "name": "python3"
  },
  "language_info": {
   "codemirror_mode": {
    "name": "ipython",
    "version": 3
   },
   "file_extension": ".py",
   "mimetype": "text/x-python",
   "name": "python",
   "nbconvert_exporter": "python",
   "pygments_lexer": "ipython3",
   "version": "3.11.13"
  }
 },
 "nbformat": 4,
 "nbformat_minor": 5
}
