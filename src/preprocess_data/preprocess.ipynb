{
 "cells": [
  {
   "cell_type": "code",
   "execution_count": 1,
   "id": "62a7852c",
   "metadata": {},
   "outputs": [],
   "source": [
    "\n",
    "import sys\n",
    "from pathlib import Path\n",
    "notebook_path = Path().resolve()\n",
    "sys.path.append(str(notebook_path.parent.parent))"
   ]
  },
  {
   "cell_type": "code",
   "execution_count": 2,
   "id": "5ce172dd",
   "metadata": {},
   "outputs": [
    {
     "data": {
      "text/plain": [
       "['c:\\\\Users\\\\PC\\\\Miniconda3\\\\envs\\\\causal_ml\\\\python311.zip',\n",
       " 'c:\\\\Users\\\\PC\\\\Miniconda3\\\\envs\\\\causal_ml\\\\DLLs',\n",
       " 'c:\\\\Users\\\\PC\\\\Miniconda3\\\\envs\\\\causal_ml\\\\Lib',\n",
       " 'c:\\\\Users\\\\PC\\\\Miniconda3\\\\envs\\\\causal_ml',\n",
       " '',\n",
       " 'c:\\\\Users\\\\PC\\\\Miniconda3\\\\envs\\\\causal_ml\\\\Lib\\\\site-packages',\n",
       " 'c:\\\\Users\\\\PC\\\\Miniconda3\\\\envs\\\\causal_ml\\\\Lib\\\\site-packages\\\\win32',\n",
       " 'c:\\\\Users\\\\PC\\\\Miniconda3\\\\envs\\\\causal_ml\\\\Lib\\\\site-packages\\\\win32\\\\lib',\n",
       " 'c:\\\\Users\\\\PC\\\\Miniconda3\\\\envs\\\\causal_ml\\\\Lib\\\\site-packages\\\\Pythonwin',\n",
       " 'D:\\\\repos\\\\cannibalization_reatail']"
      ]
     },
     "execution_count": 2,
     "metadata": {},
     "output_type": "execute_result"
    }
   ],
   "source": [
    "sys.path\n"
   ]
  },
  {
   "cell_type": "code",
   "execution_count": 4,
   "id": "bfec75c7",
   "metadata": {},
   "outputs": [
    {
     "name": "stderr",
     "output_type": "stream",
     "text": [
      "D:\\repos\\cannibalization_reatail\\src\\utils\\utils.py:13: DtypeWarning: Columns (5) have mixed types. Specify dtype option on import or set low_memory=False.\n",
      "  return pd.read_csv(full_path, **kwargs)\n",
      "D:\\repos\\cannibalization_reatail\\src\\utils\\utils.py:31: FutureWarning: Downcasting object dtype arrays on .fillna, .ffill, .bfill is deprecated and will change in a future version. Call result.infer_objects(copy=False) instead. To opt-in to the future behavior, set `pd.set_option('future.no_silent_downcasting', True)`\n",
      "  return s.fillna(False).astype(str).str.lower().isin([\"true\", \"1\", \"t\", \"yes\"]).astype(\"int8\")\n",
      "c:\\Users\\PC\\Miniconda3\\envs\\causal_ml\\Lib\\site-packages\\pandas\\core\\arraylike.py:399: RuntimeWarning: divide by zero encountered in log1p\n",
      "  result = getattr(ufunc, method)(*inputs, **kwargs)\n",
      "c:\\Users\\PC\\Miniconda3\\envs\\causal_ml\\Lib\\site-packages\\pandas\\core\\arraylike.py:399: RuntimeWarning: invalid value encountered in log1p\n",
      "  result = getattr(ufunc, method)(*inputs, **kwargs)\n"
     ]
    },
    {
     "name": "stdout",
     "output_type": "stream",
     "text": [
      "saving on D:\\repos\\cannibalization_reatail\\.data\\processed_data\\panel_semanal.csv\n",
      "Panel semanal listo → D:\\repos\\cannibalization_reatail\\.data\\processed_data\\panel_semanal.csv\n",
      "<class 'pandas.core.frame.DataFrame'>\n",
      "RangeIndex: 23582329 entries, 0 to 23582328\n",
      "Data columns (total 32 columns):\n",
      " #   Column       Dtype         \n",
      "---  ------       -----         \n",
      " 0   store_nbr    int32         \n",
      " 1   item_nbr     int32         \n",
      " 2   week_start   datetime64[ns]\n",
      " 3   Y_isw        float32       \n",
      " 4   y_isw        float32       \n",
      " 5   dias_semana  int64         \n",
      " 6   promo_dias   int8          \n",
      " 7   delta_isw    float32       \n",
      " 8   Ptilde_isw   int8          \n",
      " 9   family       object        \n",
      " 10  class        int64         \n",
      " 11  perishable   int8          \n",
      " 12  city         object        \n",
      " 13  state        object        \n",
      " 14  type         object        \n",
      " 15  cluster      int64         \n",
      " 16  F_sw         int64         \n",
      " 17  log_F_sw     float32       \n",
      " 18  O_w          float32       \n",
      " 19  H_nat        float32       \n",
      " 20  H_reg        float32       \n",
      " 21  H_loc        float32       \n",
      " 22  eq_shock     int8          \n",
      " 23  w_idx        int32         \n",
      " 24  fourier_s1   float32       \n",
      " 25  fourier_s2   float32       \n",
      " 26  fourier_c1   float32       \n",
      " 27  fourier_c2   float32       \n",
      " 28  lag1         float32       \n",
      " 29  lag2         float32       \n",
      " 30  lag4         float32       \n",
      " 31  lag8         float32       \n",
      "dtypes: datetime64[ns](1), float32(16), int32(3), int64(4), int8(4), object(4)\n",
      "memory usage: 8.2 GB\n",
      "None\n",
      "   store_nbr  item_nbr week_start  Y_isw     y_isw  dias_semana  promo_dias  \\\n",
      "0          1     96995 2013-01-07    2.0  1.098612            2           0   \n",
      "1          1     96995 2013-01-14    3.0  1.386294            2           0   \n",
      "2          1     96995 2013-01-21    2.0  1.098612            2           0   \n",
      "3          1     96995 2013-01-28    2.0  1.098612            2           0   \n",
      "4          1     96995 2013-02-04    1.0  0.693147            1           0   \n",
      "\n",
      "   delta_isw  Ptilde_isw     family  ...  eq_shock  w_idx fourier_s1  \\\n",
      "0        0.0           0  GROCERY I  ...         0      1   0.120537   \n",
      "1        0.0           0  GROCERY I  ...         0      2   0.239316   \n",
      "2        0.0           0  GROCERY I  ...         0      3   0.354605   \n",
      "3        0.0           0  GROCERY I  ...         0      4   0.464723   \n",
      "4        0.0           0  GROCERY I  ...         0      5   0.568065   \n",
      "\n",
      "  fourier_s2 fourier_c1  fourier_c2      lag1      lag2      lag4  lag8  \n",
      "0   0.239316   0.992709    0.970942       NaN       NaN       NaN   NaN  \n",
      "1   0.464723   0.970942    0.885456  1.098612       NaN       NaN   NaN  \n",
      "2   0.663123   0.935016    0.748511  1.386294  1.098612       NaN   NaN  \n",
      "3   0.822984   0.885456    0.568065  1.098612  1.386294       NaN   NaN  \n",
      "4   0.935016   0.822984    0.354605  1.098612  1.098612  1.098612   NaN  \n",
      "\n",
      "[5 rows x 32 columns]\n"
     ]
    }
   ],
   "source": [
    "# main.py\n",
    "\n",
    "import sys\n",
    "from pathlib import Path\n",
    "\n",
    "notebook_path = Path().resolve()\n",
    "sys.path.append(str(notebook_path.parent.parent))\n",
    "import os\n",
    "import pandas as pd\n",
    "from typing import Optional\n",
    "from src.conf import config\n",
    "import src.preprocess_data.data_loader as dl\n",
    "from src.preprocess_data.feature_engineering import build_full_panel\n",
    "\n",
    "def save_panel(panel: pd.DataFrame, out_path: Optional[str] = None) -> str:\n",
    "    \"\"\"\n",
    "    Guarda el panel en parquet (si pyarrow disponible) o CSV. Devuelve la ruta escrita.\n",
    "    \"\"\"\n",
    "    \n",
    "    out_path = os.path.join(config.OUTPUT_DIR, r\"panel_semanal.csv\")\n",
    "\n",
    "    print(f\"saving on {out_path}\")\n",
    "\n",
    "    panel.to_csv(out_path, index=False)\n",
    "    return out_path\n",
    "\n",
    "def main():\n",
    "    # 1) Cargar datos crudos\n",
    "    raw = dl.load_all_raw()\n",
    "\n",
    "    # 2) Construir panel completo\n",
    "    panel = build_full_panel(raw)\n",
    "\n",
    "    # 3) Guardar y reportar\n",
    "    out_file = save_panel(panel)\n",
    "    print(f\"Panel semanal listo → {out_file}\")\n",
    "    print(panel.info(memory_usage=\"deep\"))\n",
    "    print(panel.head(5))\n",
    "\n",
    "if __name__ == \"__main__\":\n",
    "    main()"
   ]
  }
 ],
 "metadata": {
  "kernelspec": {
   "display_name": "causal_ml",
   "language": "python",
   "name": "python3"
  },
  "language_info": {
   "codemirror_mode": {
    "name": "ipython",
    "version": 3
   },
   "file_extension": ".py",
   "mimetype": "text/x-python",
   "name": "python",
   "nbconvert_exporter": "python",
   "pygments_lexer": "ipython3",
   "version": "3.11.13"
  }
 },
 "nbformat": 4,
 "nbformat_minor": 5
}
