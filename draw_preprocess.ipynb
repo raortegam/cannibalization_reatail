{
 "cells": [
  {
   "cell_type": "code",
   "execution_count": 5,
   "id": "5e9fc8ac",
   "metadata": {},
   "outputs": [
    {
     "ename": "FileNotFoundError",
     "evalue": "[WinError 2] El sistema no puede encontrar el archivo especificado",
     "output_type": "error",
     "traceback": [
      "\u001b[31m---------------------------------------------------------------------------\u001b[39m",
      "\u001b[31mFileNotFoundError\u001b[39m                         Traceback (most recent call last)",
      "\u001b[36mCell\u001b[39m\u001b[36m \u001b[39m\u001b[32mIn[5]\u001b[39m\u001b[32m, line 80\u001b[39m\n\u001b[32m     76\u001b[39m     \u001b[38;5;28mprint\u001b[39m(\u001b[33mf\u001b[39m\u001b[33m\"\u001b[39m\u001b[33mDiagramas creados:\u001b[39m\u001b[38;5;130;01m\\n\u001b[39;00m\u001b[33m- \u001b[39m\u001b[38;5;132;01m{\u001b[39;00mpng_path\u001b[38;5;132;01m}\u001b[39;00m\u001b[38;5;130;01m\\n\u001b[39;00m\u001b[33m- \u001b[39m\u001b[38;5;132;01m{\u001b[39;00mpdf_path\u001b[38;5;132;01m}\u001b[39;00m\u001b[33m\"\u001b[39m)\n\u001b[32m     79\u001b[39m \u001b[38;5;28;01mif\u001b[39;00m \u001b[34m__name__\u001b[39m == \u001b[33m\"\u001b[39m\u001b[33m__main__\u001b[39m\u001b[33m\"\u001b[39m:\n\u001b[32m---> \u001b[39m\u001b[32m80\u001b[39m     \u001b[43mbuild_mermaid_flowchart\u001b[49m\u001b[43m(\u001b[49m\u001b[43m)\u001b[49m\n",
      "\u001b[36mCell\u001b[39m\u001b[36m \u001b[39m\u001b[32mIn[5]\u001b[39m\u001b[32m, line 73\u001b[39m, in \u001b[36mbuild_mermaid_flowchart\u001b[39m\u001b[34m()\u001b[39m\n\u001b[32m     70\u001b[39m     f.write(mermaid_code.strip())\n\u001b[32m     72\u001b[39m \u001b[38;5;66;03m# Renderiza PNG y PDF\u001b[39;00m\n\u001b[32m---> \u001b[39m\u001b[32m73\u001b[39m \u001b[43msubprocess\u001b[49m\u001b[43m.\u001b[49m\u001b[43mrun\u001b[49m\u001b[43m(\u001b[49m\u001b[43m[\u001b[49m\u001b[33;43m\"\u001b[39;49m\u001b[33;43mmmdc\u001b[39;49m\u001b[33;43m\"\u001b[39;49m\u001b[43m,\u001b[49m\u001b[43m \u001b[49m\u001b[33;43m\"\u001b[39;49m\u001b[33;43m-i\u001b[39;49m\u001b[33;43m\"\u001b[39;49m\u001b[43m,\u001b[49m\u001b[43m \u001b[49m\u001b[43mmmd_path\u001b[49m\u001b[43m,\u001b[49m\u001b[43m \u001b[49m\u001b[33;43m\"\u001b[39;49m\u001b[33;43m-o\u001b[39;49m\u001b[33;43m\"\u001b[39;49m\u001b[43m,\u001b[49m\u001b[43m \u001b[49m\u001b[43mpng_path\u001b[49m\u001b[43m,\u001b[49m\u001b[43m \u001b[49m\u001b[33;43m\"\u001b[39;49m\u001b[33;43m-b\u001b[39;49m\u001b[33;43m\"\u001b[39;49m\u001b[43m,\u001b[49m\u001b[43m \u001b[49m\u001b[33;43m\"\u001b[39;49m\u001b[33;43mtransparent\u001b[39;49m\u001b[33;43m\"\u001b[39;49m\u001b[43m]\u001b[49m\u001b[43m,\u001b[49m\u001b[43m \u001b[49m\u001b[43mcheck\u001b[49m\u001b[43m=\u001b[49m\u001b[38;5;28;43;01mTrue\u001b[39;49;00m\u001b[43m)\u001b[49m\n\u001b[32m     74\u001b[39m subprocess.run([\u001b[33m\"\u001b[39m\u001b[33mmmdc\u001b[39m\u001b[33m\"\u001b[39m, \u001b[33m\"\u001b[39m\u001b[33m-i\u001b[39m\u001b[33m\"\u001b[39m, mmd_path, \u001b[33m\"\u001b[39m\u001b[33m-o\u001b[39m\u001b[33m\"\u001b[39m, pdf_path, \u001b[33m\"\u001b[39m\u001b[33m-b\u001b[39m\u001b[33m\"\u001b[39m, \u001b[33m\"\u001b[39m\u001b[33mtransparent\u001b[39m\u001b[33m\"\u001b[39m], check=\u001b[38;5;28;01mTrue\u001b[39;00m)\n\u001b[32m     76\u001b[39m \u001b[38;5;28mprint\u001b[39m(\u001b[33mf\u001b[39m\u001b[33m\"\u001b[39m\u001b[33mDiagramas creados:\u001b[39m\u001b[38;5;130;01m\\n\u001b[39;00m\u001b[33m- \u001b[39m\u001b[38;5;132;01m{\u001b[39;00mpng_path\u001b[38;5;132;01m}\u001b[39;00m\u001b[38;5;130;01m\\n\u001b[39;00m\u001b[33m- \u001b[39m\u001b[38;5;132;01m{\u001b[39;00mpdf_path\u001b[38;5;132;01m}\u001b[39;00m\u001b[33m\"\u001b[39m)\n",
      "\u001b[36mFile \u001b[39m\u001b[32mc:\\Users\\PC\\Miniconda3\\envs\\causal_ml\\Lib\\subprocess.py:548\u001b[39m, in \u001b[36mrun\u001b[39m\u001b[34m(input, capture_output, timeout, check, *popenargs, **kwargs)\u001b[39m\n\u001b[32m    545\u001b[39m     kwargs[\u001b[33m'\u001b[39m\u001b[33mstdout\u001b[39m\u001b[33m'\u001b[39m] = PIPE\n\u001b[32m    546\u001b[39m     kwargs[\u001b[33m'\u001b[39m\u001b[33mstderr\u001b[39m\u001b[33m'\u001b[39m] = PIPE\n\u001b[32m--> \u001b[39m\u001b[32m548\u001b[39m \u001b[38;5;28;01mwith\u001b[39;00m \u001b[43mPopen\u001b[49m\u001b[43m(\u001b[49m\u001b[43m*\u001b[49m\u001b[43mpopenargs\u001b[49m\u001b[43m,\u001b[49m\u001b[43m \u001b[49m\u001b[43m*\u001b[49m\u001b[43m*\u001b[49m\u001b[43mkwargs\u001b[49m\u001b[43m)\u001b[49m \u001b[38;5;28;01mas\u001b[39;00m process:\n\u001b[32m    549\u001b[39m     \u001b[38;5;28;01mtry\u001b[39;00m:\n\u001b[32m    550\u001b[39m         stdout, stderr = process.communicate(\u001b[38;5;28minput\u001b[39m, timeout=timeout)\n",
      "\u001b[36mFile \u001b[39m\u001b[32mc:\\Users\\PC\\Miniconda3\\envs\\causal_ml\\Lib\\subprocess.py:1026\u001b[39m, in \u001b[36mPopen.__init__\u001b[39m\u001b[34m(self, args, bufsize, executable, stdin, stdout, stderr, preexec_fn, close_fds, shell, cwd, env, universal_newlines, startupinfo, creationflags, restore_signals, start_new_session, pass_fds, user, group, extra_groups, encoding, errors, text, umask, pipesize, process_group)\u001b[39m\n\u001b[32m   1022\u001b[39m         \u001b[38;5;28;01mif\u001b[39;00m \u001b[38;5;28mself\u001b[39m.text_mode:\n\u001b[32m   1023\u001b[39m             \u001b[38;5;28mself\u001b[39m.stderr = io.TextIOWrapper(\u001b[38;5;28mself\u001b[39m.stderr,\n\u001b[32m   1024\u001b[39m                     encoding=encoding, errors=errors)\n\u001b[32m-> \u001b[39m\u001b[32m1026\u001b[39m     \u001b[38;5;28;43mself\u001b[39;49m\u001b[43m.\u001b[49m\u001b[43m_execute_child\u001b[49m\u001b[43m(\u001b[49m\u001b[43margs\u001b[49m\u001b[43m,\u001b[49m\u001b[43m \u001b[49m\u001b[43mexecutable\u001b[49m\u001b[43m,\u001b[49m\u001b[43m \u001b[49m\u001b[43mpreexec_fn\u001b[49m\u001b[43m,\u001b[49m\u001b[43m \u001b[49m\u001b[43mclose_fds\u001b[49m\u001b[43m,\u001b[49m\n\u001b[32m   1027\u001b[39m \u001b[43m                        \u001b[49m\u001b[43mpass_fds\u001b[49m\u001b[43m,\u001b[49m\u001b[43m \u001b[49m\u001b[43mcwd\u001b[49m\u001b[43m,\u001b[49m\u001b[43m \u001b[49m\u001b[43menv\u001b[49m\u001b[43m,\u001b[49m\n\u001b[32m   1028\u001b[39m \u001b[43m                        \u001b[49m\u001b[43mstartupinfo\u001b[49m\u001b[43m,\u001b[49m\u001b[43m \u001b[49m\u001b[43mcreationflags\u001b[49m\u001b[43m,\u001b[49m\u001b[43m \u001b[49m\u001b[43mshell\u001b[49m\u001b[43m,\u001b[49m\n\u001b[32m   1029\u001b[39m \u001b[43m                        \u001b[49m\u001b[43mp2cread\u001b[49m\u001b[43m,\u001b[49m\u001b[43m \u001b[49m\u001b[43mp2cwrite\u001b[49m\u001b[43m,\u001b[49m\n\u001b[32m   1030\u001b[39m \u001b[43m                        \u001b[49m\u001b[43mc2pread\u001b[49m\u001b[43m,\u001b[49m\u001b[43m \u001b[49m\u001b[43mc2pwrite\u001b[49m\u001b[43m,\u001b[49m\n\u001b[32m   1031\u001b[39m \u001b[43m                        \u001b[49m\u001b[43merrread\u001b[49m\u001b[43m,\u001b[49m\u001b[43m \u001b[49m\u001b[43merrwrite\u001b[49m\u001b[43m,\u001b[49m\n\u001b[32m   1032\u001b[39m \u001b[43m                        \u001b[49m\u001b[43mrestore_signals\u001b[49m\u001b[43m,\u001b[49m\n\u001b[32m   1033\u001b[39m \u001b[43m                        \u001b[49m\u001b[43mgid\u001b[49m\u001b[43m,\u001b[49m\u001b[43m \u001b[49m\u001b[43mgids\u001b[49m\u001b[43m,\u001b[49m\u001b[43m \u001b[49m\u001b[43muid\u001b[49m\u001b[43m,\u001b[49m\u001b[43m \u001b[49m\u001b[43mumask\u001b[49m\u001b[43m,\u001b[49m\n\u001b[32m   1034\u001b[39m \u001b[43m                        \u001b[49m\u001b[43mstart_new_session\u001b[49m\u001b[43m,\u001b[49m\u001b[43m \u001b[49m\u001b[43mprocess_group\u001b[49m\u001b[43m)\u001b[49m\n\u001b[32m   1035\u001b[39m \u001b[38;5;28;01mexcept\u001b[39;00m:\n\u001b[32m   1036\u001b[39m     \u001b[38;5;66;03m# Cleanup if the child failed starting.\u001b[39;00m\n\u001b[32m   1037\u001b[39m     \u001b[38;5;28;01mfor\u001b[39;00m f \u001b[38;5;129;01min\u001b[39;00m \u001b[38;5;28mfilter\u001b[39m(\u001b[38;5;28;01mNone\u001b[39;00m, (\u001b[38;5;28mself\u001b[39m.stdin, \u001b[38;5;28mself\u001b[39m.stdout, \u001b[38;5;28mself\u001b[39m.stderr)):\n",
      "\u001b[36mFile \u001b[39m\u001b[32mc:\\Users\\PC\\Miniconda3\\envs\\causal_ml\\Lib\\subprocess.py:1538\u001b[39m, in \u001b[36mPopen._execute_child\u001b[39m\u001b[34m(self, args, executable, preexec_fn, close_fds, pass_fds, cwd, env, startupinfo, creationflags, shell, p2cread, p2cwrite, c2pread, c2pwrite, errread, errwrite, unused_restore_signals, unused_gid, unused_gids, unused_uid, unused_umask, unused_start_new_session, unused_process_group)\u001b[39m\n\u001b[32m   1536\u001b[39m \u001b[38;5;66;03m# Start the process\u001b[39;00m\n\u001b[32m   1537\u001b[39m \u001b[38;5;28;01mtry\u001b[39;00m:\n\u001b[32m-> \u001b[39m\u001b[32m1538\u001b[39m     hp, ht, pid, tid = \u001b[43m_winapi\u001b[49m\u001b[43m.\u001b[49m\u001b[43mCreateProcess\u001b[49m\u001b[43m(\u001b[49m\u001b[43mexecutable\u001b[49m\u001b[43m,\u001b[49m\u001b[43m \u001b[49m\u001b[43margs\u001b[49m\u001b[43m,\u001b[49m\n\u001b[32m   1539\u001b[39m \u001b[43m                             \u001b[49m\u001b[38;5;66;43;03m# no special security\u001b[39;49;00m\n\u001b[32m   1540\u001b[39m \u001b[43m                             \u001b[49m\u001b[38;5;28;43;01mNone\u001b[39;49;00m\u001b[43m,\u001b[49m\u001b[43m \u001b[49m\u001b[38;5;28;43;01mNone\u001b[39;49;00m\u001b[43m,\u001b[49m\n\u001b[32m   1541\u001b[39m \u001b[43m                             \u001b[49m\u001b[38;5;28;43mint\u001b[39;49m\u001b[43m(\u001b[49m\u001b[38;5;129;43;01mnot\u001b[39;49;00m\u001b[43m \u001b[49m\u001b[43mclose_fds\u001b[49m\u001b[43m)\u001b[49m\u001b[43m,\u001b[49m\n\u001b[32m   1542\u001b[39m \u001b[43m                             \u001b[49m\u001b[43mcreationflags\u001b[49m\u001b[43m,\u001b[49m\n\u001b[32m   1543\u001b[39m \u001b[43m                             \u001b[49m\u001b[43menv\u001b[49m\u001b[43m,\u001b[49m\n\u001b[32m   1544\u001b[39m \u001b[43m                             \u001b[49m\u001b[43mcwd\u001b[49m\u001b[43m,\u001b[49m\n\u001b[32m   1545\u001b[39m \u001b[43m                             \u001b[49m\u001b[43mstartupinfo\u001b[49m\u001b[43m)\u001b[49m\n\u001b[32m   1546\u001b[39m \u001b[38;5;28;01mfinally\u001b[39;00m:\n\u001b[32m   1547\u001b[39m     \u001b[38;5;66;03m# Child is launched. Close the parent's copy of those pipe\u001b[39;00m\n\u001b[32m   1548\u001b[39m     \u001b[38;5;66;03m# handles that only the child should have open.  You need\u001b[39;00m\n\u001b[32m   (...)\u001b[39m\u001b[32m   1551\u001b[39m     \u001b[38;5;66;03m# pipe will not close when the child process exits and the\u001b[39;00m\n\u001b[32m   1552\u001b[39m     \u001b[38;5;66;03m# ReadFile will hang.\u001b[39;00m\n\u001b[32m   1553\u001b[39m     \u001b[38;5;28mself\u001b[39m._close_pipe_fds(p2cread, p2cwrite,\n\u001b[32m   1554\u001b[39m                          c2pread, c2pwrite,\n\u001b[32m   1555\u001b[39m                          errread, errwrite)\n",
      "\u001b[31mFileNotFoundError\u001b[39m: [WinError 2] El sistema no puede encontrar el archivo especificado"
     ]
    }
   ],
   "source": [
    "# -*- coding: utf-8 -*-\n",
    "\"\"\"\n",
    "flow_diagram_chapter1_mermaid.py\n",
    "================================\n",
    "Genera un diagrama de flujo (PNG y PDF) en estilo profesional usando Mermaid.\n",
    "\n",
    "Requiere tener instalado Mermaid CLI:\n",
    "    npm install -g @mermaid-js/mermaid-cli\n",
    "\n",
    "Salidas:\n",
    "  ./figures/data_pipeline_flowchart_mermaid.png\n",
    "  ./figures/data_pipeline_flowchart_mermaid.pdf\n",
    "\"\"\"\n",
    "\n",
    "import os\n",
    "import subprocess\n",
    "from textwrap import dedent\n",
    "\n",
    "FIG_DIR = os.path.join(\".\", \"figures\")\n",
    "FILE_BASENAME = \"data_pipeline_flowchart_mermaid\"\n",
    "\n",
    "\n",
    "def build_mermaid_flowchart():\n",
    "    os.makedirs(FIG_DIR, exist_ok=True)\n",
    "\n",
    "    mermaid_code = dedent(r\"\"\"\n",
    "    ---\n",
    "    title: Flujo de Preprocesamiento de Datos\n",
    "    config:\n",
    "      theme: base\n",
    "      themeVariables:\n",
    "        fontSize: 12px\n",
    "        primaryColor: \"#F5F7FF\"\n",
    "        primaryTextColor: \"#111827\"\n",
    "        primaryBorderColor: \"#1f2937\"\n",
    "        lineColor: \"#6b7280\"\n",
    "        nodeBorder: \"#1f2937\"\n",
    "        edgeLabelBackground: \"#ffffff\"\n",
    "    ---\n",
    "\n",
    "    flowchart TD\n",
    "        A0[\"**0) RAW DATA**<br/>• panel diario (train/sales.csv)<br/>• items.csv, stores.csv<br/>• transactions.csv<br/>• oil.csv<br/>• holidays_events.csv\"]\n",
    "        A1[\"**1) Data Quality**<br/>• tipos/fechas y zonas horarias<br/>• duplicados (store,item,date)<br/>• nulls / cobertura<br/>• outliers básicos\"]\n",
    "        A2[\"**2) Tratamiento H<sup>ist</sup> (exposición competitiva)**<br/>• Proporción de ítems en promoción en el vecindario del SKU-tiempo<br/>• Ej.: H<sup>ist</sup><sub>s,t</sub> = #promo_vecindario / #items_vecindario\"]\n",
    "        A3[\"**3) Selección de episodios**<br/>• Ventanas: pre / tratamiento / post<br/>• Ítems: caníbales (i), víctimas (j)<br/>• Donantes top-k por víctima (rank, donor_kind)\"]\n",
    "        A4[\"**4) Variables de control (confounders)**<br/>• Festivos jerárquicos y tipos (Bridge, Work Day, etc.)<br/>• Petróleo semanal (Ow), transacciones tienda (Fsw_log1p)<br/>• Lags {7,14,28,56} + Fourier anual (K)<br/>• Dummies {type, cluster, state} + mes<br/>• A_it, T_it (STL) + Q_store_t\"]\n",
    "\n",
    "        subgraph cluster_algos[\"5) Preprocesamiento específico por algoritmo\"]\n",
    "            A5a[\"**GSC (Control Sintético Generalizado)**<br/>• Panel por episodio: víctima + donantes filtrados<br/>• Etiquetas: treated_unit, treated_time<br/>• Filtros: promo_share ≤ 0.02, availability ≥ 0.90<br/>• Salida: data/processed/gsc/&lt;episode_id&gt;.parquet\"]\n",
    "            A5b[\"**Meta-learners (series temporales)**<br/>• Stack de unidades (víctimas + donantes)<br/>• D_t = 1{treated_unit & treated_time}<br/>• Salida: data/processed/meta/all_units.parquet\"]\n",
    "        end\n",
    "\n",
    "        Note[\"**pre_algorithm.py (CLI)**<br/>• orquesta lectura, controles y features<br/>• construye datasets GSC y Meta<br/>• aplica filtros de calidad\"]:::noteStyle\n",
    "\n",
    "        %% conexiones principales\n",
    "        A0 --> A1 --> A2 --> A3 --> A4 --> A5a\n",
    "        A4 --> A5b\n",
    "        A4 -.-> Note\n",
    "        Note -.-> A5a\n",
    "        Note -.-> A5b\n",
    "\n",
    "        classDef noteStyle fill:#FFFDF0,stroke:#b45309,color:#78350f;\n",
    "    \"\"\")\n",
    "\n",
    "    mmd_path = os.path.join(FIG_DIR, FILE_BASENAME + \".mmd\")\n",
    "    png_path = os.path.join(FIG_DIR, FILE_BASENAME + \".png\")\n",
    "    pdf_path = os.path.join(FIG_DIR, FILE_BASENAME + \".pdf\")\n",
    "\n",
    "    with open(mmd_path, \"w\", encoding=\"utf-8\") as f:\n",
    "        f.write(mermaid_code.strip())\n",
    "\n",
    "    # Renderiza PNG y PDF\n",
    "    subprocess.run([\"mmdc\", \"-i\", mmd_path, \"-o\", png_path, \"-b\", \"transparent\"], check=True)\n",
    "    subprocess.run([\"mmdc\", \"-i\", mmd_path, \"-o\", pdf_path, \"-b\", \"transparent\"], check=True)\n",
    "\n",
    "    print(f\"Diagramas creados:\\n- {png_path}\\n- {pdf_path}\")\n",
    "\n",
    "\n",
    "if __name__ == \"__main__\":\n",
    "    build_mermaid_flowchart()\n"
   ]
  },
  {
   "cell_type": "code",
   "execution_count": 4,
   "id": "37e36c42",
   "metadata": {},
   "outputs": [
    {
     "name": "stdout",
     "output_type": "stream",
     "text": [
      "✅ Diagrama generado:\n",
      "- .\\figures\\data_pipeline_flowchart_clean.png\n",
      "- .\\figures\\data_pipeline_flowchart_clean.pdf\n"
     ]
    }
   ],
   "source": [
    "build_flowchart_matplotlib() "
   ]
  }
 ],
 "metadata": {
  "kernelspec": {
   "display_name": "causal_ml",
   "language": "python",
   "name": "python3"
  },
  "language_info": {
   "codemirror_mode": {
    "name": "ipython",
    "version": 3
   },
   "file_extension": ".py",
   "mimetype": "text/x-python",
   "name": "python",
   "nbconvert_exporter": "python",
   "pygments_lexer": "ipython3",
   "version": "3.11.13"
  }
 },
 "nbformat": 4,
 "nbformat_minor": 5
}
