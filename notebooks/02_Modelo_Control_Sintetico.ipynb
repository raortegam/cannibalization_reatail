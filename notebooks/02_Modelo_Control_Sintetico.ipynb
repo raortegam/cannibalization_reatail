{
 "cells": [
  {
   "cell_type": "code",
   "execution_count": 3,
   "id": "c035a54b",
   "metadata": {},
   "outputs": [
    {
     "name": "stdout",
     "output_type": "stream",
     "text": [
      "Dispositivos CUDA: 1\n",
      "¿GPU 1 existe? False\n"
     ]
    }
   ],
   "source": [
    "import torch\n",
    "print(\"Dispositivos CUDA:\", torch.cuda.device_count())\n",
    "print(\"¿GPU 1 existe?\", torch.cuda.device_count() > 1)"
   ]
  },
  {
   "cell_type": "code",
   "execution_count": 4,
   "id": "b911107d",
   "metadata": {},
   "outputs": [
    {
     "name": "stdout",
     "output_type": "stream",
     "text": [
      "CUDA available: True\n",
      "Device count: 1\n",
      "GPU 0: NVIDIA GeForce RTX 5080\n"
     ]
    }
   ],
   "source": [
    "import torch\n",
    "print(f\"CUDA available: {torch.cuda.is_available()}\")\n",
    "print(f\"Device count: {torch.cuda.device_count()}\")\n",
    "print(f\"GPU 0: {torch.cuda.get_device_name(0)}\")"
   ]
  }
 ],
 "metadata": {
  "kernelspec": {
   "display_name": "causal_ml",
   "language": "python",
   "name": "python3"
  },
  "language_info": {
   "codemirror_mode": {
    "name": "ipython",
    "version": 3
   },
   "file_extension": ".py",
   "mimetype": "text/x-python",
   "name": "python",
   "nbconvert_exporter": "python",
   "pygments_lexer": "ipython3",
   "version": "3.11.13"
  }
 },
 "nbformat": 4,
 "nbformat_minor": 5
}
